{
 "cells": [
  {
   "cell_type": "markdown",
   "id": "4b0c3cd7",
   "metadata": {},
   "source": [
    "# Project Title: Women's Clothing Ecommerce Sales\n",
    "\n",
    "### Purpose: \n",
    "The data aims to analyze women's clothing sales performance, understand customer preferences, conduct pricing analysis, manage inventory effectively, identify seasonal trends, and drive data-driven decision-making. Through evaluation of trends, preferences, and revenue, the analysis informs strategic decisions for product offerings, marketing, and customer engagement."
   ]
  },
  {
   "cell_type": "markdown",
   "id": "435c6be8",
   "metadata": {},
   "source": [
    "## Step 1: Importing necessary packages"
   ]
  },
  {
   "cell_type": "code",
   "execution_count": 1,
   "id": "7a063298",
   "metadata": {},
   "outputs": [],
   "source": [
    "# Importing the different libraries for analysing and visualizing the dataset\n",
    "import pandas as pd #Import the Pandas library as \"pd\", and used for data manipulation\n",
    "import numpy as np  #NumPy is a Python library used for numerical computing.\n",
    "import matplotlib.pyplot as plt # Matplotlib for data visualization\n",
    "\n",
    "# Seaborn is a Python data visualization library based on Matplotlib.\n",
    "import seaborn as sns"
   ]
  },
  {
   "cell_type": "markdown",
   "id": "a99a637d",
   "metadata": {},
   "source": [
    "## Step 2: Loading the data from the local system to the jupyter notebook"
   ]
  },
  {
   "cell_type": "code",
   "execution_count": 3,
   "id": "084c4fbd",
   "metadata": {},
   "outputs": [
    {
     "name": "stdout",
     "output_type": "stream",
     "text": [
      "     order_id        order_date                               sku      color  \\\n",
      "0           1  01-06-2022 16:05                               708  Dark Blue   \n",
      "1           1  01-06-2022 16:05                                89  Dark Blue   \n",
      "2           2  10-06-2022 17:03                              bobo      Cream   \n",
      "3           3  10-06-2022 19:59                               799  Dark Blue   \n",
      "4           4  11-06-2022 11:42                               799  Dark Blue   \n",
      "..        ...               ...                               ...        ...   \n",
      "522       171  09-09-2022 06:27                               799  Dark Blue   \n",
      "523       172  09-09-2022 07:18                               708  Dark Blue   \n",
      "524       173  09-09-2022 07:22                               799  Dark Blue   \n",
      "525       174  09-09-2022 08:25                               799  Dark Blue   \n",
      "526       175  09-09-2022 09:47                               799  Dark Blue   \n",
      "\n",
      "         size  unit_price  quantity  revenue  \n",
      "0         2XL         298         1      298  \n",
      "1         2XL         258         1      258  \n",
      "2    One Size         228         1      228  \n",
      "3          XL         264         1      264  \n",
      "4           M         264         1      264  \n",
      "..        ...         ...       ...      ...  \n",
      "522         M         265         1      265  \n",
      "523       4XL         278         1      278  \n",
      "524         M         265         1      265  \n",
      "525         L         265         1      265  \n",
      "526        XL         265         1      265  \n",
      "\n",
      "[527 rows x 8 columns]\n"
     ]
    }
   ],
   "source": [
    "# Importing the dataset / Load the files\n",
    "data =pd.read_csv('C:/Users/rajit/Women_clothing_ecommerce_sales_data.csv')\n",
    "\n",
    "#Print the dataset\n",
    "print(data)"
   ]
  },
  {
   "cell_type": "markdown",
   "id": "4ba665e8",
   "metadata": {},
   "source": [
    "## Step 3: Data View"
   ]
  },
  {
   "cell_type": "code",
   "execution_count": 4,
   "id": "64247b9f",
   "metadata": {},
   "outputs": [
    {
     "data": {
      "text/plain": [
       "Index(['order_id', 'order_date', '               sku', 'color', 'size',\n",
       "       'unit_price', 'quantity', 'revenue'],\n",
       "      dtype='object')"
      ]
     },
     "execution_count": 4,
     "metadata": {},
     "output_type": "execute_result"
    }
   ],
   "source": [
    "#display all column names of the dataset\n",
    "data.columns"
   ]
  },
  {
   "cell_type": "markdown",
   "id": "f1a0853c",
   "metadata": {},
   "source": [
    "#### Contents:\n",
    "##### This dataset contains the above displayed columns along with their descriptions:\n",
    " - order_id: unique identifier for each order placed\n",
    " - order_date: date and time of order\n",
    " - sku: a number used by retailer to assign their products\n",
    " - color: color of the product\n",
    " - size: size of the product, treat missing values as ( One Size )\n",
    " - unit_price: unit price of the product\n",
    " - quantity: quantity ordered for that particular product\n",
    " - revenue: unit_price * quantity  "
   ]
  },
  {
   "cell_type": "code",
   "execution_count": 7,
   "id": "17650fb7",
   "metadata": {},
   "outputs": [
    {
     "data": {
      "text/html": [
       "<div>\n",
       "<style scoped>\n",
       "    .dataframe tbody tr th:only-of-type {\n",
       "        vertical-align: middle;\n",
       "    }\n",
       "\n",
       "    .dataframe tbody tr th {\n",
       "        vertical-align: top;\n",
       "    }\n",
       "\n",
       "    .dataframe thead th {\n",
       "        text-align: right;\n",
       "    }\n",
       "</style>\n",
       "<table border=\"1\" class=\"dataframe\">\n",
       "  <thead>\n",
       "    <tr style=\"text-align: right;\">\n",
       "      <th></th>\n",
       "      <th>order_id</th>\n",
       "      <th>order_date</th>\n",
       "      <th>sku</th>\n",
       "      <th>color</th>\n",
       "      <th>size</th>\n",
       "      <th>unit_price</th>\n",
       "      <th>quantity</th>\n",
       "      <th>revenue</th>\n",
       "    </tr>\n",
       "  </thead>\n",
       "  <tbody>\n",
       "    <tr>\n",
       "      <th>0</th>\n",
       "      <td>1</td>\n",
       "      <td>01-06-2022 16:05</td>\n",
       "      <td>708</td>\n",
       "      <td>Dark Blue</td>\n",
       "      <td>2XL</td>\n",
       "      <td>298</td>\n",
       "      <td>1</td>\n",
       "      <td>298</td>\n",
       "    </tr>\n",
       "    <tr>\n",
       "      <th>1</th>\n",
       "      <td>1</td>\n",
       "      <td>01-06-2022 16:05</td>\n",
       "      <td>89</td>\n",
       "      <td>Dark Blue</td>\n",
       "      <td>2XL</td>\n",
       "      <td>258</td>\n",
       "      <td>1</td>\n",
       "      <td>258</td>\n",
       "    </tr>\n",
       "    <tr>\n",
       "      <th>2</th>\n",
       "      <td>2</td>\n",
       "      <td>10-06-2022 17:03</td>\n",
       "      <td>bobo</td>\n",
       "      <td>Cream</td>\n",
       "      <td>One Size</td>\n",
       "      <td>228</td>\n",
       "      <td>1</td>\n",
       "      <td>228</td>\n",
       "    </tr>\n",
       "    <tr>\n",
       "      <th>3</th>\n",
       "      <td>3</td>\n",
       "      <td>10-06-2022 19:59</td>\n",
       "      <td>799</td>\n",
       "      <td>Dark Blue</td>\n",
       "      <td>XL</td>\n",
       "      <td>264</td>\n",
       "      <td>1</td>\n",
       "      <td>264</td>\n",
       "    </tr>\n",
       "    <tr>\n",
       "      <th>4</th>\n",
       "      <td>4</td>\n",
       "      <td>11-06-2022 11:42</td>\n",
       "      <td>799</td>\n",
       "      <td>Dark Blue</td>\n",
       "      <td>M</td>\n",
       "      <td>264</td>\n",
       "      <td>1</td>\n",
       "      <td>264</td>\n",
       "    </tr>\n",
       "  </tbody>\n",
       "</table>\n",
       "</div>"
      ],
      "text/plain": [
       "   order_id        order_date                               sku      color  \\\n",
       "0         1  01-06-2022 16:05                               708  Dark Blue   \n",
       "1         1  01-06-2022 16:05                                89  Dark Blue   \n",
       "2         2  10-06-2022 17:03                              bobo      Cream   \n",
       "3         3  10-06-2022 19:59                               799  Dark Blue   \n",
       "4         4  11-06-2022 11:42                               799  Dark Blue   \n",
       "\n",
       "       size  unit_price  quantity  revenue  \n",
       "0       2XL         298         1      298  \n",
       "1       2XL         258         1      258  \n",
       "2  One Size         228         1      228  \n",
       "3        XL         264         1      264  \n",
       "4         M         264         1      264  "
      ]
     },
     "execution_count": 7,
     "metadata": {},
     "output_type": "execute_result"
    }
   ],
   "source": [
    "# list of first five rows\n",
    "data.head()"
   ]
  },
  {
   "cell_type": "code",
   "execution_count": 9,
   "id": "082983ec",
   "metadata": {},
   "outputs": [
    {
     "data": {
      "text/html": [
       "<div>\n",
       "<style scoped>\n",
       "    .dataframe tbody tr th:only-of-type {\n",
       "        vertical-align: middle;\n",
       "    }\n",
       "\n",
       "    .dataframe tbody tr th {\n",
       "        vertical-align: top;\n",
       "    }\n",
       "\n",
       "    .dataframe thead th {\n",
       "        text-align: right;\n",
       "    }\n",
       "</style>\n",
       "<table border=\"1\" class=\"dataframe\">\n",
       "  <thead>\n",
       "    <tr style=\"text-align: right;\">\n",
       "      <th></th>\n",
       "      <th>order_id</th>\n",
       "      <th>order_date</th>\n",
       "      <th>sku</th>\n",
       "      <th>color</th>\n",
       "      <th>size</th>\n",
       "      <th>unit_price</th>\n",
       "      <th>quantity</th>\n",
       "      <th>revenue</th>\n",
       "    </tr>\n",
       "  </thead>\n",
       "  <tbody>\n",
       "    <tr>\n",
       "      <th>522</th>\n",
       "      <td>171</td>\n",
       "      <td>09-09-2022 06:27</td>\n",
       "      <td>799</td>\n",
       "      <td>Dark Blue</td>\n",
       "      <td>M</td>\n",
       "      <td>265</td>\n",
       "      <td>1</td>\n",
       "      <td>265</td>\n",
       "    </tr>\n",
       "    <tr>\n",
       "      <th>523</th>\n",
       "      <td>172</td>\n",
       "      <td>09-09-2022 07:18</td>\n",
       "      <td>708</td>\n",
       "      <td>Dark Blue</td>\n",
       "      <td>4XL</td>\n",
       "      <td>278</td>\n",
       "      <td>1</td>\n",
       "      <td>278</td>\n",
       "    </tr>\n",
       "    <tr>\n",
       "      <th>524</th>\n",
       "      <td>173</td>\n",
       "      <td>09-09-2022 07:22</td>\n",
       "      <td>799</td>\n",
       "      <td>Dark Blue</td>\n",
       "      <td>M</td>\n",
       "      <td>265</td>\n",
       "      <td>1</td>\n",
       "      <td>265</td>\n",
       "    </tr>\n",
       "    <tr>\n",
       "      <th>525</th>\n",
       "      <td>174</td>\n",
       "      <td>09-09-2022 08:25</td>\n",
       "      <td>799</td>\n",
       "      <td>Dark Blue</td>\n",
       "      <td>L</td>\n",
       "      <td>265</td>\n",
       "      <td>1</td>\n",
       "      <td>265</td>\n",
       "    </tr>\n",
       "    <tr>\n",
       "      <th>526</th>\n",
       "      <td>175</td>\n",
       "      <td>09-09-2022 09:47</td>\n",
       "      <td>799</td>\n",
       "      <td>Dark Blue</td>\n",
       "      <td>XL</td>\n",
       "      <td>265</td>\n",
       "      <td>1</td>\n",
       "      <td>265</td>\n",
       "    </tr>\n",
       "  </tbody>\n",
       "</table>\n",
       "</div>"
      ],
      "text/plain": [
       "     order_id        order_date                sku      color size  \\\n",
       "522       171  09-09-2022 06:27                799  Dark Blue    M   \n",
       "523       172  09-09-2022 07:18                708  Dark Blue  4XL   \n",
       "524       173  09-09-2022 07:22                799  Dark Blue    M   \n",
       "525       174  09-09-2022 08:25                799  Dark Blue    L   \n",
       "526       175  09-09-2022 09:47                799  Dark Blue   XL   \n",
       "\n",
       "     unit_price  quantity  revenue  \n",
       "522         265         1      265  \n",
       "523         278         1      278  \n",
       "524         265         1      265  \n",
       "525         265         1      265  \n",
       "526         265         1      265  "
      ]
     },
     "execution_count": 9,
     "metadata": {},
     "output_type": "execute_result"
    }
   ],
   "source": [
    "# list of last five rows\n",
    "data.tail()"
   ]
  },
  {
   "cell_type": "code",
   "execution_count": 10,
   "id": "90b6e9a4",
   "metadata": {},
   "outputs": [
    {
     "data": {
      "text/plain": [
       "(527, 8)"
      ]
     },
     "execution_count": 10,
     "metadata": {},
     "output_type": "execute_result"
    }
   ],
   "source": [
    "#Displays the dimensions of the dataset as a tuple\n",
    "data.shape"
   ]
  },
  {
   "cell_type": "code",
   "execution_count": 11,
   "id": "6ec5b3a6",
   "metadata": {},
   "outputs": [
    {
     "data": {
      "text/plain": [
       "RangeIndex(start=0, stop=527, step=1)"
      ]
     },
     "execution_count": 11,
     "metadata": {},
     "output_type": "execute_result"
    }
   ],
   "source": [
    "#accessing the index of a Dataframe\n",
    "data.index"
   ]
  },
  {
   "cell_type": "code",
   "execution_count": 12,
   "id": "67006cfc",
   "metadata": {},
   "outputs": [
    {
     "name": "stdout",
     "output_type": "stream",
     "text": [
      "<class 'pandas.core.frame.DataFrame'>\n",
      "RangeIndex: 527 entries, 0 to 526\n",
      "Data columns (total 8 columns):\n",
      " #   Column              Non-Null Count  Dtype \n",
      "---  ------              --------------  ----- \n",
      " 0   order_id            527 non-null    int64 \n",
      " 1   order_date          527 non-null    object\n",
      " 2                  sku  527 non-null    object\n",
      " 3   color               527 non-null    object\n",
      " 4   size                490 non-null    object\n",
      " 5   unit_price          527 non-null    int64 \n",
      " 6   quantity            527 non-null    int64 \n",
      " 7   revenue             527 non-null    int64 \n",
      "dtypes: int64(4), object(4)\n",
      "memory usage: 33.1+ KB\n"
     ]
    }
   ],
   "source": [
    "# It is also a good practice to know the columns and their corresponding data types\n",
    "# along with finding whether they contain null values or not.\n",
    "data.info()"
   ]
  },
  {
   "cell_type": "code",
   "execution_count": 16,
   "id": "1d9b6561",
   "metadata": {},
   "outputs": [
    {
     "data": {
      "text/html": [
       "<div>\n",
       "<style scoped>\n",
       "    .dataframe tbody tr th:only-of-type {\n",
       "        vertical-align: middle;\n",
       "    }\n",
       "\n",
       "    .dataframe tbody tr th {\n",
       "        vertical-align: top;\n",
       "    }\n",
       "\n",
       "    .dataframe thead th {\n",
       "        text-align: right;\n",
       "    }\n",
       "</style>\n",
       "<table border=\"1\" class=\"dataframe\">\n",
       "  <thead>\n",
       "    <tr style=\"text-align: right;\">\n",
       "      <th></th>\n",
       "      <th>order_id</th>\n",
       "      <th>unit_price</th>\n",
       "      <th>quantity</th>\n",
       "      <th>revenue</th>\n",
       "    </tr>\n",
       "  </thead>\n",
       "  <tbody>\n",
       "    <tr>\n",
       "      <th>count</th>\n",
       "      <td>527.000000</td>\n",
       "      <td>527.000000</td>\n",
       "      <td>527.000000</td>\n",
       "      <td>527.000000</td>\n",
       "    </tr>\n",
       "    <tr>\n",
       "      <th>mean</th>\n",
       "      <td>115.313093</td>\n",
       "      <td>274.973435</td>\n",
       "      <td>1.011385</td>\n",
       "      <td>278.024668</td>\n",
       "    </tr>\n",
       "    <tr>\n",
       "      <th>std</th>\n",
       "      <td>73.106716</td>\n",
       "      <td>34.517412</td>\n",
       "      <td>0.106193</td>\n",
       "      <td>44.741095</td>\n",
       "    </tr>\n",
       "    <tr>\n",
       "      <th>min</th>\n",
       "      <td>1.000000</td>\n",
       "      <td>191.000000</td>\n",
       "      <td>1.000000</td>\n",
       "      <td>191.000000</td>\n",
       "    </tr>\n",
       "    <tr>\n",
       "      <th>25%</th>\n",
       "      <td>54.000000</td>\n",
       "      <td>266.000000</td>\n",
       "      <td>1.000000</td>\n",
       "      <td>266.000000</td>\n",
       "    </tr>\n",
       "    <tr>\n",
       "      <th>50%</th>\n",
       "      <td>110.000000</td>\n",
       "      <td>278.000000</td>\n",
       "      <td>1.000000</td>\n",
       "      <td>278.000000</td>\n",
       "    </tr>\n",
       "    <tr>\n",
       "      <th>75%</th>\n",
       "      <td>166.000000</td>\n",
       "      <td>288.000000</td>\n",
       "      <td>1.000000</td>\n",
       "      <td>288.000000</td>\n",
       "    </tr>\n",
       "    <tr>\n",
       "      <th>max</th>\n",
       "      <td>273.000000</td>\n",
       "      <td>899.000000</td>\n",
       "      <td>2.000000</td>\n",
       "      <td>899.000000</td>\n",
       "    </tr>\n",
       "  </tbody>\n",
       "</table>\n",
       "</div>"
      ],
      "text/plain": [
       "         order_id  unit_price    quantity     revenue\n",
       "count  527.000000  527.000000  527.000000  527.000000\n",
       "mean   115.313093  274.973435    1.011385  278.024668\n",
       "std     73.106716   34.517412    0.106193   44.741095\n",
       "min      1.000000  191.000000    1.000000  191.000000\n",
       "25%     54.000000  266.000000    1.000000  266.000000\n",
       "50%    110.000000  278.000000    1.000000  278.000000\n",
       "75%    166.000000  288.000000    1.000000  288.000000\n",
       "max    273.000000  899.000000    2.000000  899.000000"
      ]
     },
     "execution_count": 16,
     "metadata": {},
     "output_type": "execute_result"
    }
   ],
   "source": [
    "# Generating descriptive statistics of the numerical columns in a dataset\n",
    "data.describe()"
   ]
  },
  {
   "cell_type": "code",
   "execution_count": 15,
   "id": "0d85d0b1",
   "metadata": {},
   "outputs": [
    {
     "data": {
      "text/plain": [
       "count    527.000000\n",
       "mean     278.024668\n",
       "std       44.741095\n",
       "min      191.000000\n",
       "25%      266.000000\n",
       "50%      278.000000\n",
       "75%      288.000000\n",
       "max      899.000000\n",
       "Name: revenue, dtype: float64"
      ]
     },
     "execution_count": 15,
     "metadata": {},
     "output_type": "execute_result"
    }
   ],
   "source": [
    "# to get a better understanding of the dataset,\n",
    "# we can also see the statistical summary of the dataset.\n",
    "data['revenue'].describe()"
   ]
  },
  {
   "cell_type": "markdown",
   "id": "2cae7263",
   "metadata": {},
   "source": [
    "## Step 4: Data Cleaning (Filteration / Manipulation)"
   ]
  },
  {
   "cell_type": "code",
   "execution_count": 17,
   "id": "da3abd78",
   "metadata": {},
   "outputs": [
    {
     "data": {
      "text/plain": [
       "order_id              527\n",
       "order_date            527\n",
       "               sku    527\n",
       "color                 527\n",
       "size                  490\n",
       "unit_price            527\n",
       "quantity              527\n",
       "revenue               527\n",
       "dtype: int64"
      ]
     },
     "execution_count": 17,
     "metadata": {},
     "output_type": "execute_result"
    }
   ],
   "source": [
    "# Shows the count of non-null values in the particular column\n",
    "data.count()"
   ]
  },
  {
   "cell_type": "code",
   "execution_count": 18,
   "id": "03dac471",
   "metadata": {},
   "outputs": [
    {
     "data": {
      "text/plain": [
       "order_id  order_date                       sku  color           size  unit_price  quantity  revenue\n",
       "1         01-06-2022 16:05  708                 Dark Blue       2XL   298         1         298        1\n",
       "151       30-07-2022 15:18  799                 Dark Blue       XL    266         1         266        1\n",
       "150       30-07-2022 15:05  799                 Dark Blue       L     266         1         266        1\n",
       "          08-09-2022 15:58  799                 Dark Blue       XL    288         1         288        1\n",
       "149       30-07-2022 12:58  708                 Dark Blue       3XL   298         1         298        1\n",
       "                                                                                                      ..\n",
       "73        09-06-2022 20:16  229                 922 Black       XL    207         1         207        1\n",
       "                                                922 Army green  XL    207         1         207        1\n",
       "72        17-09-2022 13:44  799                 Dark Blue       L     288         1         288        1\n",
       "          08-06-2022 12:39  799                 Dark Blue       XL    264         1         264        1\n",
       "273       30-08-2022 08:58  799                 Dark Blue       L     278         1         278        1\n",
       "Length: 490, dtype: int64"
      ]
     },
     "execution_count": 18,
     "metadata": {},
     "output_type": "execute_result"
    }
   ],
   "source": [
    "# Count the frequency of unique values in each column of the dataset\n",
    "data.value_counts()"
   ]
  },
  {
   "cell_type": "code",
   "execution_count": 19,
   "id": "e61a43b3",
   "metadata": {},
   "outputs": [
    {
     "data": {
      "text/plain": [
       "order_id              273\n",
       "order_date            444\n",
       "               sku     25\n",
       "color                  39\n",
       "size                    9\n",
       "unit_price             35\n",
       "quantity                2\n",
       "revenue                38\n",
       "dtype: int64"
      ]
     },
     "execution_count": 19,
     "metadata": {},
     "output_type": "execute_result"
    }
   ],
   "source": [
    "# We can also see the number of unique users and items in the dataset.\n",
    "data.nunique()"
   ]
  },
  {
   "cell_type": "code",
   "execution_count": 23,
   "id": "89b357e5",
   "metadata": {},
   "outputs": [
    {
     "data": {
      "text/plain": [
       "order_id               0\n",
       "order_date             0\n",
       "               sku     0\n",
       "color                  0\n",
       "size                  37\n",
       "unit_price             0\n",
       "quantity               0\n",
       "revenue                0\n",
       "dtype: int64"
      ]
     },
     "execution_count": 23,
     "metadata": {},
     "output_type": "execute_result"
    }
   ],
   "source": [
    "# check for missing values\n",
    "data.isnull().sum()"
   ]
  },
  {
   "cell_type": "code",
   "execution_count": 24,
   "id": "689389c6",
   "metadata": {},
   "outputs": [
    {
     "name": "stdout",
     "output_type": "stream",
     "text": [
      "273\n"
     ]
    }
   ],
   "source": [
    "# Printing Unique values\n",
    "print(data['order_id'].nunique())"
   ]
  },
  {
   "cell_type": "code",
   "execution_count": 25,
   "id": "da42cef7",
   "metadata": {},
   "outputs": [
    {
     "name": "stdout",
     "output_type": "stream",
     "text": [
      "[  1   2   3   4   5   6   7   8   9  10  11  12  13  14  15  16  17  18\n",
      "  19  20  21  22  23  24  25  26  27  28  29  30  31  32  33  34  35  36\n",
      "  37  38  39  40  41  42  43  44  45  46  47  48  49  50  51  52  53  54\n",
      "  55  56  57  58  59  60  61  62  63  64  65  66  67  68  69  70  71  72\n",
      "  73  74  75  76  77  78  79  80  81  82  83  84  85  86  87  88  89  90\n",
      "  91  92  93  94  95  96  97  98  99 100 101 102 103 104 105 106 107 108\n",
      " 109 110 111 112 113 114 115 116 117 118 119 120 121 122 123 124 125 126\n",
      " 127 128 129 130 131 132 133 134 135 136 137 138 139 140 141 142 143 144\n",
      " 145 146 147 148 149 150 151 152 153 154 155 156 157 158 159 160 161 162\n",
      " 163 164 165 166 167 168 169 170 171 172 173 174 175 176 177 178 179 180\n",
      " 181 182 183 184 185 186 187 188 189 190 191 192 193 194 195 196 197 198\n",
      " 199 200 201 202 203 204 205 206 207 208 209 210 211 212 213 214 215 216\n",
      " 217 218 219 220 221 222 223 224 225 226 227 228 229 230 231 232 233 234\n",
      " 235 236 237 238 239 240 241 242 243 244 245 246 247 248 249 250 251 252\n",
      " 253 254 255 256 257 258 259 260 261 262 263 264 265 266 267 268 269 270\n",
      " 271 272 273]\n"
     ]
    }
   ],
   "source": [
    "# Printing Unique values\n",
    "print(data['order_id'].unique())"
   ]
  },
  {
   "cell_type": "code",
   "execution_count": 27,
   "id": "1f4bbd39",
   "metadata": {},
   "outputs": [
    {
     "name": "stdout",
     "output_type": "stream",
     "text": [
      "Dark Blue          0.753321\n",
      "Light Blue         0.049336\n",
      "Black              0.026565\n",
      "Grey Wash          0.017078\n",
      "Mid Wash           0.015180\n",
      "Navy Blue          0.013283\n",
      "B                  0.011385\n",
      "Dark Wash          0.009488\n",
      "Blue               0.007590\n",
      "C                  0.007590\n",
      "Brown              0.005693\n",
      "White              0.005693\n",
      "Gray               0.005693\n",
      "Rust               0.005693\n",
      "Thin Blue          0.005693\n",
      "A                  0.005693\n",
      "Cream              0.003795\n",
      "Midnight Blue      0.003795\n",
      "Blue Stripes       0.003795\n",
      "D                  0.003795\n",
      "Green              0.003795\n",
      "Matcha             0.003795\n",
      "Yellow             0.001898\n",
      "Cornflower Blue    0.001898\n",
      "Skintone           0.001898\n",
      "Mocha              0.001898\n",
      "Maroon             0.001898\n",
      "Pink               0.001898\n",
      "922 Army green     0.001898\n",
      "Mustard            0.001898\n",
      "Black Stripes      0.001898\n",
      "Light Wash         0.001898\n",
      "920 Navy blue      0.001898\n",
      "Gray Stripes       0.001898\n",
      "922 Black          0.001898\n",
      "Thin Black         0.001898\n",
      "E                  0.001898\n",
      "Light Gray         0.001898\n",
      "Red Orange         0.001898\n",
      "Name: color, dtype: float64\n"
     ]
    }
   ],
   "source": [
    "# Calculate the color wise percentage\n",
    "print(data['color'].value_counts(normalize=True))"
   ]
  },
  {
   "cell_type": "code",
   "execution_count": 28,
   "id": "495dee80",
   "metadata": {},
   "outputs": [
    {
     "data": {
      "text/html": [
       "<div>\n",
       "<style scoped>\n",
       "    .dataframe tbody tr th:only-of-type {\n",
       "        vertical-align: middle;\n",
       "    }\n",
       "\n",
       "    .dataframe tbody tr th {\n",
       "        vertical-align: top;\n",
       "    }\n",
       "\n",
       "    .dataframe thead th {\n",
       "        text-align: right;\n",
       "    }\n",
       "</style>\n",
       "<table border=\"1\" class=\"dataframe\">\n",
       "  <thead>\n",
       "    <tr style=\"text-align: right;\">\n",
       "      <th></th>\n",
       "      <th>order_id</th>\n",
       "      <th>order_date</th>\n",
       "      <th>sku</th>\n",
       "      <th>color</th>\n",
       "      <th>size</th>\n",
       "      <th>unit_price</th>\n",
       "      <th>quantity</th>\n",
       "      <th>revenue</th>\n",
       "    </tr>\n",
       "  </thead>\n",
       "  <tbody>\n",
       "    <tr>\n",
       "      <th>0</th>\n",
       "      <td>1</td>\n",
       "      <td>01-06-2022 16:05</td>\n",
       "      <td>708</td>\n",
       "      <td>Dark Blue</td>\n",
       "      <td>2XL</td>\n",
       "      <td>298</td>\n",
       "      <td>1</td>\n",
       "      <td>298</td>\n",
       "    </tr>\n",
       "    <tr>\n",
       "      <th>1</th>\n",
       "      <td>1</td>\n",
       "      <td>01-06-2022 16:05</td>\n",
       "      <td>89</td>\n",
       "      <td>Dark Blue</td>\n",
       "      <td>2XL</td>\n",
       "      <td>258</td>\n",
       "      <td>1</td>\n",
       "      <td>258</td>\n",
       "    </tr>\n",
       "    <tr>\n",
       "      <th>2</th>\n",
       "      <td>2</td>\n",
       "      <td>10-06-2022 17:03</td>\n",
       "      <td>bobo</td>\n",
       "      <td>Cream</td>\n",
       "      <td>One Size</td>\n",
       "      <td>228</td>\n",
       "      <td>1</td>\n",
       "      <td>228</td>\n",
       "    </tr>\n",
       "    <tr>\n",
       "      <th>3</th>\n",
       "      <td>3</td>\n",
       "      <td>10-06-2022 19:59</td>\n",
       "      <td>799</td>\n",
       "      <td>Dark Blue</td>\n",
       "      <td>XL</td>\n",
       "      <td>264</td>\n",
       "      <td>1</td>\n",
       "      <td>264</td>\n",
       "    </tr>\n",
       "    <tr>\n",
       "      <th>4</th>\n",
       "      <td>4</td>\n",
       "      <td>11-06-2022 11:42</td>\n",
       "      <td>799</td>\n",
       "      <td>Dark Blue</td>\n",
       "      <td>M</td>\n",
       "      <td>264</td>\n",
       "      <td>1</td>\n",
       "      <td>264</td>\n",
       "    </tr>\n",
       "    <tr>\n",
       "      <th>...</th>\n",
       "      <td>...</td>\n",
       "      <td>...</td>\n",
       "      <td>...</td>\n",
       "      <td>...</td>\n",
       "      <td>...</td>\n",
       "      <td>...</td>\n",
       "      <td>...</td>\n",
       "      <td>...</td>\n",
       "    </tr>\n",
       "    <tr>\n",
       "      <th>522</th>\n",
       "      <td>171</td>\n",
       "      <td>09-09-2022 06:27</td>\n",
       "      <td>799</td>\n",
       "      <td>Dark Blue</td>\n",
       "      <td>M</td>\n",
       "      <td>265</td>\n",
       "      <td>1</td>\n",
       "      <td>265</td>\n",
       "    </tr>\n",
       "    <tr>\n",
       "      <th>523</th>\n",
       "      <td>172</td>\n",
       "      <td>09-09-2022 07:18</td>\n",
       "      <td>708</td>\n",
       "      <td>Dark Blue</td>\n",
       "      <td>4XL</td>\n",
       "      <td>278</td>\n",
       "      <td>1</td>\n",
       "      <td>278</td>\n",
       "    </tr>\n",
       "    <tr>\n",
       "      <th>524</th>\n",
       "      <td>173</td>\n",
       "      <td>09-09-2022 07:22</td>\n",
       "      <td>799</td>\n",
       "      <td>Dark Blue</td>\n",
       "      <td>M</td>\n",
       "      <td>265</td>\n",
       "      <td>1</td>\n",
       "      <td>265</td>\n",
       "    </tr>\n",
       "    <tr>\n",
       "      <th>525</th>\n",
       "      <td>174</td>\n",
       "      <td>09-09-2022 08:25</td>\n",
       "      <td>799</td>\n",
       "      <td>Dark Blue</td>\n",
       "      <td>L</td>\n",
       "      <td>265</td>\n",
       "      <td>1</td>\n",
       "      <td>265</td>\n",
       "    </tr>\n",
       "    <tr>\n",
       "      <th>526</th>\n",
       "      <td>175</td>\n",
       "      <td>09-09-2022 09:47</td>\n",
       "      <td>799</td>\n",
       "      <td>Dark Blue</td>\n",
       "      <td>XL</td>\n",
       "      <td>265</td>\n",
       "      <td>1</td>\n",
       "      <td>265</td>\n",
       "    </tr>\n",
       "  </tbody>\n",
       "</table>\n",
       "<p>490 rows × 8 columns</p>\n",
       "</div>"
      ],
      "text/plain": [
       "     order_id        order_date                               sku      color  \\\n",
       "0           1  01-06-2022 16:05                               708  Dark Blue   \n",
       "1           1  01-06-2022 16:05                                89  Dark Blue   \n",
       "2           2  10-06-2022 17:03                              bobo      Cream   \n",
       "3           3  10-06-2022 19:59                               799  Dark Blue   \n",
       "4           4  11-06-2022 11:42                               799  Dark Blue   \n",
       "..        ...               ...                               ...        ...   \n",
       "522       171  09-09-2022 06:27                               799  Dark Blue   \n",
       "523       172  09-09-2022 07:18                               708  Dark Blue   \n",
       "524       173  09-09-2022 07:22                               799  Dark Blue   \n",
       "525       174  09-09-2022 08:25                               799  Dark Blue   \n",
       "526       175  09-09-2022 09:47                               799  Dark Blue   \n",
       "\n",
       "         size  unit_price  quantity  revenue  \n",
       "0         2XL         298         1      298  \n",
       "1         2XL         258         1      258  \n",
       "2    One Size         228         1      228  \n",
       "3          XL         264         1      264  \n",
       "4           M         264         1      264  \n",
       "..        ...         ...       ...      ...  \n",
       "522         M         265         1      265  \n",
       "523       4XL         278         1      278  \n",
       "524         M         265         1      265  \n",
       "525         L         265         1      265  \n",
       "526        XL         265         1      265  \n",
       "\n",
       "[490 rows x 8 columns]"
      ]
     },
     "execution_count": 28,
     "metadata": {},
     "output_type": "execute_result"
    }
   ],
   "source": [
    "# Drop rows with any missing values (NaN) from the dataset\n",
    "data.dropna()"
   ]
  },
  {
   "cell_type": "code",
   "execution_count": 30,
   "id": "89d788c9",
   "metadata": {},
   "outputs": [],
   "source": [
    "# Drop rows with any missing values (NaN) from the dataset and update the dataset in place\n",
    "\n",
    "data.dropna(inplace=True)"
   ]
  },
  {
   "cell_type": "code",
   "execution_count": 31,
   "id": "e3cf1bc7",
   "metadata": {},
   "outputs": [
    {
     "data": {
      "text/plain": [
       "(490, 8)"
      ]
     },
     "execution_count": 31,
     "metadata": {},
     "output_type": "execute_result"
    }
   ],
   "source": [
    "# Check the dimensions of the dataset after dropping rows with missing values\n",
    "data.shape"
   ]
  },
  {
   "cell_type": "code",
   "execution_count": 32,
   "id": "9652bb68",
   "metadata": {},
   "outputs": [
    {
     "data": {
      "text/plain": [
       "order_id              0\n",
       "order_date            0\n",
       "               sku    0\n",
       "color                 0\n",
       "size                  0\n",
       "unit_price            0\n",
       "quantity              0\n",
       "revenue               0\n",
       "dtype: int64"
      ]
     },
     "execution_count": 32,
     "metadata": {},
     "output_type": "execute_result"
    }
   ],
   "source": [
    "# Now check for missing values\n",
    "data.isnull().sum()"
   ]
  },
  {
   "cell_type": "code",
   "execution_count": 33,
   "id": "39318814",
   "metadata": {},
   "outputs": [
    {
     "name": "stdout",
     "output_type": "stream",
     "text": [
      "Before Removing Number of duplicate rows: 0\n",
      "Empty DataFrame\n",
      "Columns: [order_id, order_date,                sku, color, size, unit_price, quantity, revenue]\n",
      "Index: []\n"
     ]
    }
   ],
   "source": [
    "#Find the duplicate values\n",
    "duplicate_rows = data.duplicated()\n",
    "#Printing the no of duplicate rows\n",
    "print(\"Before Removing Number of duplicate rows:\", duplicate_rows.sum())\n",
    "print(data[duplicate_rows])"
   ]
  },
  {
   "cell_type": "code",
   "execution_count": 35,
   "id": "60165e6d",
   "metadata": {},
   "outputs": [
    {
     "name": "stdout",
     "output_type": "stream",
     "text": [
      "            count        mean        std    min     25%    50%     75%    max\n",
      "order_id    490.0  117.087755  72.596811    1.0   57.25  111.5  165.75  273.0\n",
      "unit_price  490.0  276.153061  35.211936  191.0  266.00  278.0  288.00  899.0\n",
      "quantity    490.0    1.012245   0.110089    1.0    1.00    1.0    1.00    2.0\n",
      "revenue     490.0  279.434694  45.858376  191.0  266.00  278.0  288.00  899.0\n"
     ]
    }
   ],
   "source": [
    "#Display the statistics for each column as rows.\n",
    "#This table provides descriptive statistics such as count, mean, standard deviation, minimum, maximum, and quartile values for each numerical column in the DataFrame.\n",
    "print(data.describe().T)"
   ]
  },
  {
   "cell_type": "code",
   "execution_count": 37,
   "id": "9070d6b8",
   "metadata": {},
   "outputs": [
    {
     "name": "stdout",
     "output_type": "stream",
     "text": [
      "                   count unique               top freq\n",
      "order_date           490    426  04-09-2022 14:51   12\n",
      "               sku   490     21               799  283\n",
      "color                490     27         Dark Blue  397\n",
      "size                 490      9                XL  164\n"
     ]
    }
   ],
   "source": [
    "#This table provides descriptive statistics for categorical columns in the DataFrame. \n",
    "#It includes count (number of non-null values), unique (number of unique values), top (most frequently occurring value), and freq (frequency of the top value).\n",
    "print(data.describe(include=object).T)"
   ]
  },
  {
   "cell_type": "code",
   "execution_count": 39,
   "id": "cd50b664",
   "metadata": {},
   "outputs": [
    {
     "name": "stdout",
     "output_type": "stream",
     "text": [
      "   order_id        order_date                sku      color size  unit_price  \\\n",
      "0         1  01-06-2022 16:05                708  Dark Blue  2XL         298   \n",
      "1         1  01-06-2022 16:05                 89  Dark Blue  2XL         258   \n",
      "3         3  10-06-2022 19:59                799  Dark Blue   XL         264   \n",
      "4         4  11-06-2022 11:42                799  Dark Blue    M         264   \n",
      "\n",
      "   quantity  revenue  \n",
      "0         1      298  \n",
      "1         1      258  \n",
      "3         1      264  \n",
      "4         1      264  \n"
     ]
    }
   ],
   "source": [
    "# filtering - Only show category of dresses \n",
    "condition = data['color'] == 'Dark Blue'\n",
    "# display top 4 rows\n",
    "print(data[condition].head(4))"
   ]
  },
  {
   "cell_type": "code",
   "execution_count": 44,
   "id": "7edf9960",
   "metadata": {},
   "outputs": [
    {
     "data": {
      "text/html": [
       "<div>\n",
       "<style scoped>\n",
       "    .dataframe tbody tr th:only-of-type {\n",
       "        vertical-align: middle;\n",
       "    }\n",
       "\n",
       "    .dataframe tbody tr th {\n",
       "        vertical-align: top;\n",
       "    }\n",
       "\n",
       "    .dataframe thead th {\n",
       "        text-align: right;\n",
       "    }\n",
       "</style>\n",
       "<table border=\"1\" class=\"dataframe\">\n",
       "  <thead>\n",
       "    <tr style=\"text-align: right;\">\n",
       "      <th></th>\n",
       "      <th></th>\n",
       "      <th>revenue</th>\n",
       "    </tr>\n",
       "    <tr>\n",
       "      <th>color</th>\n",
       "      <th>size</th>\n",
       "      <th></th>\n",
       "    </tr>\n",
       "  </thead>\n",
       "  <tbody>\n",
       "    <tr>\n",
       "      <th>920 Navy blue</th>\n",
       "      <th>S</th>\n",
       "      <td>227</td>\n",
       "    </tr>\n",
       "    <tr>\n",
       "      <th>922 Army green</th>\n",
       "      <th>XL</th>\n",
       "      <td>207</td>\n",
       "    </tr>\n",
       "    <tr>\n",
       "      <th>922 Black</th>\n",
       "      <th>XL</th>\n",
       "      <td>207</td>\n",
       "    </tr>\n",
       "    <tr>\n",
       "      <th rowspan=\"4\" valign=\"top\">Black</th>\n",
       "      <th>L</th>\n",
       "      <td>318</td>\n",
       "    </tr>\n",
       "    <tr>\n",
       "      <th>M</th>\n",
       "      <td>318</td>\n",
       "    </tr>\n",
       "    <tr>\n",
       "      <th>One Size</th>\n",
       "      <td>576</td>\n",
       "    </tr>\n",
       "    <tr>\n",
       "      <th>XL</th>\n",
       "      <td>318</td>\n",
       "    </tr>\n",
       "    <tr>\n",
       "      <th>Black Stripes</th>\n",
       "      <th>One Size</th>\n",
       "      <td>248</td>\n",
       "    </tr>\n",
       "    <tr>\n",
       "      <th rowspan=\"2\" valign=\"top\">Blue</th>\n",
       "      <th>One Size</th>\n",
       "      <td>228</td>\n",
       "    </tr>\n",
       "    <tr>\n",
       "      <th>XL</th>\n",
       "      <td>268</td>\n",
       "    </tr>\n",
       "    <tr>\n",
       "      <th>Blue Stripes</th>\n",
       "      <th>One Size</th>\n",
       "      <td>248</td>\n",
       "    </tr>\n",
       "    <tr>\n",
       "      <th>Brown</th>\n",
       "      <th>One SIze</th>\n",
       "      <td>198</td>\n",
       "    </tr>\n",
       "    <tr>\n",
       "      <th>Cornflower Blue</th>\n",
       "      <th>One SIze</th>\n",
       "      <td>198</td>\n",
       "    </tr>\n",
       "    <tr>\n",
       "      <th>Cream</th>\n",
       "      <th>One Size</th>\n",
       "      <td>382</td>\n",
       "    </tr>\n",
       "    <tr>\n",
       "      <th rowspan=\"7\" valign=\"top\">Dark Blue</th>\n",
       "      <th>2XL</th>\n",
       "      <td>298</td>\n",
       "    </tr>\n",
       "    <tr>\n",
       "      <th>3XL</th>\n",
       "      <td>298</td>\n",
       "    </tr>\n",
       "    <tr>\n",
       "      <th>4XL</th>\n",
       "      <td>899</td>\n",
       "    </tr>\n",
       "    <tr>\n",
       "      <th>L</th>\n",
       "      <td>576</td>\n",
       "    </tr>\n",
       "    <tr>\n",
       "      <th>M</th>\n",
       "      <td>576</td>\n",
       "    </tr>\n",
       "    <tr>\n",
       "      <th>One Size</th>\n",
       "      <td>288</td>\n",
       "    </tr>\n",
       "    <tr>\n",
       "      <th>XL</th>\n",
       "      <td>576</td>\n",
       "    </tr>\n",
       "    <tr>\n",
       "      <th rowspan=\"3\" valign=\"top\">Dark Wash</th>\n",
       "      <th>M</th>\n",
       "      <td>278</td>\n",
       "    </tr>\n",
       "    <tr>\n",
       "      <th>One Size</th>\n",
       "      <td>238</td>\n",
       "    </tr>\n",
       "    <tr>\n",
       "      <th>XL</th>\n",
       "      <td>268</td>\n",
       "    </tr>\n",
       "    <tr>\n",
       "      <th>Gray Stripes</th>\n",
       "      <th>One Size</th>\n",
       "      <td>255</td>\n",
       "    </tr>\n",
       "    <tr>\n",
       "      <th rowspan=\"3\" valign=\"top\">Grey Wash</th>\n",
       "      <th>L</th>\n",
       "      <td>268</td>\n",
       "    </tr>\n",
       "    <tr>\n",
       "      <th>M</th>\n",
       "      <td>268</td>\n",
       "    </tr>\n",
       "    <tr>\n",
       "      <th>XL</th>\n",
       "      <td>268</td>\n",
       "    </tr>\n",
       "    <tr>\n",
       "      <th rowspan=\"8\" valign=\"top\">Light Blue</th>\n",
       "      <th>2XL</th>\n",
       "      <td>315</td>\n",
       "    </tr>\n",
       "    <tr>\n",
       "      <th>3XL</th>\n",
       "      <td>315</td>\n",
       "    </tr>\n",
       "    <tr>\n",
       "      <th>4XL</th>\n",
       "      <td>315</td>\n",
       "    </tr>\n",
       "    <tr>\n",
       "      <th>L</th>\n",
       "      <td>315</td>\n",
       "    </tr>\n",
       "    <tr>\n",
       "      <th>M</th>\n",
       "      <td>315</td>\n",
       "    </tr>\n",
       "    <tr>\n",
       "      <th>One SIze</th>\n",
       "      <td>198</td>\n",
       "    </tr>\n",
       "    <tr>\n",
       "      <th>One Size</th>\n",
       "      <td>288</td>\n",
       "    </tr>\n",
       "    <tr>\n",
       "      <th>XL</th>\n",
       "      <td>315</td>\n",
       "    </tr>\n",
       "    <tr>\n",
       "      <th>Light Gray</th>\n",
       "      <th>One Size</th>\n",
       "      <td>228</td>\n",
       "    </tr>\n",
       "    <tr>\n",
       "      <th>Light Wash</th>\n",
       "      <th>One Size</th>\n",
       "      <td>238</td>\n",
       "    </tr>\n",
       "    <tr>\n",
       "      <th>Maroon</th>\n",
       "      <th>One Size</th>\n",
       "      <td>191</td>\n",
       "    </tr>\n",
       "    <tr>\n",
       "      <th>Matcha</th>\n",
       "      <th>One Size</th>\n",
       "      <td>228</td>\n",
       "    </tr>\n",
       "    <tr>\n",
       "      <th rowspan=\"4\" valign=\"top\">Mid Wash</th>\n",
       "      <th>L</th>\n",
       "      <td>268</td>\n",
       "    </tr>\n",
       "    <tr>\n",
       "      <th>M</th>\n",
       "      <td>278</td>\n",
       "    </tr>\n",
       "    <tr>\n",
       "      <th>One Size</th>\n",
       "      <td>238</td>\n",
       "    </tr>\n",
       "    <tr>\n",
       "      <th>XL</th>\n",
       "      <td>278</td>\n",
       "    </tr>\n",
       "    <tr>\n",
       "      <th>Midnight Blue</th>\n",
       "      <th>One SIze</th>\n",
       "      <td>198</td>\n",
       "    </tr>\n",
       "    <tr>\n",
       "      <th>Navy Blue</th>\n",
       "      <th>One Size</th>\n",
       "      <td>228</td>\n",
       "    </tr>\n",
       "    <tr>\n",
       "      <th>Pink</th>\n",
       "      <th>One Size</th>\n",
       "      <td>228</td>\n",
       "    </tr>\n",
       "    <tr>\n",
       "      <th>Red Orange</th>\n",
       "      <th>One Size</th>\n",
       "      <td>228</td>\n",
       "    </tr>\n",
       "    <tr>\n",
       "      <th>Thin Black</th>\n",
       "      <th>One Size</th>\n",
       "      <td>268</td>\n",
       "    </tr>\n",
       "    <tr>\n",
       "      <th>Thin Blue</th>\n",
       "      <th>One Size</th>\n",
       "      <td>268</td>\n",
       "    </tr>\n",
       "    <tr>\n",
       "      <th>White</th>\n",
       "      <th>One Size</th>\n",
       "      <td>228</td>\n",
       "    </tr>\n",
       "  </tbody>\n",
       "</table>\n",
       "</div>"
      ],
      "text/plain": [
       "                          revenue\n",
       "color           size             \n",
       "920 Navy blue   S             227\n",
       "922 Army green  XL            207\n",
       "922 Black       XL            207\n",
       "Black           L             318\n",
       "                M             318\n",
       "                One Size      576\n",
       "                XL            318\n",
       "Black Stripes   One Size      248\n",
       "Blue            One Size      228\n",
       "                XL            268\n",
       "Blue Stripes    One Size      248\n",
       "Brown           One SIze      198\n",
       "Cornflower Blue One SIze      198\n",
       "Cream           One Size      382\n",
       "Dark Blue       2XL           298\n",
       "                3XL           298\n",
       "                4XL           899\n",
       "                L             576\n",
       "                M             576\n",
       "                One Size      288\n",
       "                XL            576\n",
       "Dark Wash       M             278\n",
       "                One Size      238\n",
       "                XL            268\n",
       "Gray Stripes    One Size      255\n",
       "Grey Wash       L             268\n",
       "                M             268\n",
       "                XL            268\n",
       "Light Blue      2XL           315\n",
       "                3XL           315\n",
       "                4XL           315\n",
       "                L             315\n",
       "                M             315\n",
       "                One SIze      198\n",
       "                One Size      288\n",
       "                XL            315\n",
       "Light Gray      One Size      228\n",
       "Light Wash      One Size      238\n",
       "Maroon          One Size      191\n",
       "Matcha          One Size      228\n",
       "Mid Wash        L             268\n",
       "                M             278\n",
       "                One Size      238\n",
       "                XL            278\n",
       "Midnight Blue   One SIze      198\n",
       "Navy Blue       One Size      228\n",
       "Pink            One Size      228\n",
       "Red Orange      One Size      228\n",
       "Thin Black      One Size      268\n",
       "Thin Blue       One Size      268\n",
       "White           One Size      228"
      ]
     },
     "execution_count": 44,
     "metadata": {},
     "output_type": "execute_result"
    }
   ],
   "source": [
    "#Grouping by multiple columns\n",
    "#Aggregates the given column in the given dataframe\n",
    "data.groupby(['color','size']).agg({'revenue':'max'})"
   ]
  },
  {
   "cell_type": "markdown",
   "id": "6b26222d",
   "metadata": {},
   "source": [
    "## Step 5: Data Sorting / Searching / Validation"
   ]
  },
  {
   "cell_type": "code",
   "execution_count": 48,
   "id": "2b4d913f",
   "metadata": {},
   "outputs": [
    {
     "data": {
      "text/plain": [
       "0      298\n",
       "1      258\n",
       "2      228\n",
       "3      264\n",
       "4      264\n",
       "      ... \n",
       "522    265\n",
       "523    278\n",
       "524    265\n",
       "525    265\n",
       "526    265\n",
       "Name: revenue, Length: 490, dtype: int64"
      ]
     },
     "execution_count": 48,
     "metadata": {},
     "output_type": "execute_result"
    }
   ],
   "source": [
    "#Display the 'revenue' column\n",
    "data['revenue']"
   ]
  },
  {
   "cell_type": "code",
   "execution_count": 49,
   "id": "ab1cb6ca",
   "metadata": {},
   "outputs": [
    {
     "data": {
      "text/html": [
       "<div>\n",
       "<style scoped>\n",
       "    .dataframe tbody tr th:only-of-type {\n",
       "        vertical-align: middle;\n",
       "    }\n",
       "\n",
       "    .dataframe tbody tr th {\n",
       "        vertical-align: top;\n",
       "    }\n",
       "\n",
       "    .dataframe thead th {\n",
       "        text-align: right;\n",
       "    }\n",
       "</style>\n",
       "<table border=\"1\" class=\"dataframe\">\n",
       "  <thead>\n",
       "    <tr style=\"text-align: right;\">\n",
       "      <th></th>\n",
       "      <th>order_id</th>\n",
       "      <th>order_date</th>\n",
       "      <th>sku</th>\n",
       "      <th>color</th>\n",
       "      <th>size</th>\n",
       "      <th>unit_price</th>\n",
       "      <th>quantity</th>\n",
       "      <th>revenue</th>\n",
       "    </tr>\n",
       "  </thead>\n",
       "  <tbody>\n",
       "    <tr>\n",
       "      <th>328</th>\n",
       "      <td>12</td>\n",
       "      <td>04-08-2022 21:11</td>\n",
       "      <td>bobo</td>\n",
       "      <td>Blue</td>\n",
       "      <td>One Size</td>\n",
       "      <td>191</td>\n",
       "      <td>1</td>\n",
       "      <td>191</td>\n",
       "    </tr>\n",
       "    <tr>\n",
       "      <th>327</th>\n",
       "      <td>12</td>\n",
       "      <td>04-08-2022 21:11</td>\n",
       "      <td>bobo</td>\n",
       "      <td>Maroon</td>\n",
       "      <td>One Size</td>\n",
       "      <td>191</td>\n",
       "      <td>1</td>\n",
       "      <td>191</td>\n",
       "    </tr>\n",
       "    <tr>\n",
       "      <th>308</th>\n",
       "      <td>268</td>\n",
       "      <td>03-08-2022 23:03</td>\n",
       "      <td>bobo</td>\n",
       "      <td>Navy Blue</td>\n",
       "      <td>One Size</td>\n",
       "      <td>191</td>\n",
       "      <td>1</td>\n",
       "      <td>191</td>\n",
       "    </tr>\n",
       "    <tr>\n",
       "      <th>345</th>\n",
       "      <td>24</td>\n",
       "      <td>08-08-2022 00:58</td>\n",
       "      <td>bobo</td>\n",
       "      <td>Blue</td>\n",
       "      <td>One Size</td>\n",
       "      <td>191</td>\n",
       "      <td>1</td>\n",
       "      <td>191</td>\n",
       "    </tr>\n",
       "    <tr>\n",
       "      <th>344</th>\n",
       "      <td>24</td>\n",
       "      <td>08-08-2022 00:58</td>\n",
       "      <td>bobo</td>\n",
       "      <td>Navy Blue</td>\n",
       "      <td>One Size</td>\n",
       "      <td>191</td>\n",
       "      <td>1</td>\n",
       "      <td>191</td>\n",
       "    </tr>\n",
       "    <tr>\n",
       "      <th>...</th>\n",
       "      <td>...</td>\n",
       "      <td>...</td>\n",
       "      <td>...</td>\n",
       "      <td>...</td>\n",
       "      <td>...</td>\n",
       "      <td>...</td>\n",
       "      <td>...</td>\n",
       "      <td>...</td>\n",
       "    </tr>\n",
       "    <tr>\n",
       "      <th>190</th>\n",
       "      <td>164</td>\n",
       "      <td>06-07-2022 17:14</td>\n",
       "      <td>9699</td>\n",
       "      <td>Black</td>\n",
       "      <td>One Size</td>\n",
       "      <td>288</td>\n",
       "      <td>2</td>\n",
       "      <td>576</td>\n",
       "    </tr>\n",
       "    <tr>\n",
       "      <th>280</th>\n",
       "      <td>242</td>\n",
       "      <td>25-08-2022 13:02</td>\n",
       "      <td>799</td>\n",
       "      <td>Dark Blue</td>\n",
       "      <td>XL</td>\n",
       "      <td>288</td>\n",
       "      <td>2</td>\n",
       "      <td>576</td>\n",
       "    </tr>\n",
       "    <tr>\n",
       "      <th>418</th>\n",
       "      <td>83</td>\n",
       "      <td>19-09-2022 10:05</td>\n",
       "      <td>799</td>\n",
       "      <td>Dark Blue</td>\n",
       "      <td>L</td>\n",
       "      <td>288</td>\n",
       "      <td>2</td>\n",
       "      <td>576</td>\n",
       "    </tr>\n",
       "    <tr>\n",
       "      <th>103</th>\n",
       "      <td>84</td>\n",
       "      <td>11-07-2022 17:19</td>\n",
       "      <td>799</td>\n",
       "      <td>Dark Blue</td>\n",
       "      <td>M</td>\n",
       "      <td>288</td>\n",
       "      <td>2</td>\n",
       "      <td>576</td>\n",
       "    </tr>\n",
       "    <tr>\n",
       "      <th>331</th>\n",
       "      <td>15</td>\n",
       "      <td>05-08-2022 19:33</td>\n",
       "      <td>708</td>\n",
       "      <td>Dark Blue</td>\n",
       "      <td>4XL</td>\n",
       "      <td>899</td>\n",
       "      <td>1</td>\n",
       "      <td>899</td>\n",
       "    </tr>\n",
       "  </tbody>\n",
       "</table>\n",
       "<p>490 rows × 8 columns</p>\n",
       "</div>"
      ],
      "text/plain": [
       "     order_id        order_date                sku      color      size  \\\n",
       "328        12  04-08-2022 21:11               bobo       Blue  One Size   \n",
       "327        12  04-08-2022 21:11               bobo     Maroon  One Size   \n",
       "308       268  03-08-2022 23:03               bobo  Navy Blue  One Size   \n",
       "345        24  08-08-2022 00:58               bobo       Blue  One Size   \n",
       "344        24  08-08-2022 00:58               bobo  Navy Blue  One Size   \n",
       "..        ...               ...                ...        ...       ...   \n",
       "190       164  06-07-2022 17:14               9699      Black  One Size   \n",
       "280       242  25-08-2022 13:02                799  Dark Blue        XL   \n",
       "418        83  19-09-2022 10:05                799  Dark Blue         L   \n",
       "103        84  11-07-2022 17:19                799  Dark Blue         M   \n",
       "331        15  05-08-2022 19:33                708  Dark Blue       4XL   \n",
       "\n",
       "     unit_price  quantity  revenue  \n",
       "328         191         1      191  \n",
       "327         191         1      191  \n",
       "308         191         1      191  \n",
       "345         191         1      191  \n",
       "344         191         1      191  \n",
       "..          ...       ...      ...  \n",
       "190         288         2      576  \n",
       "280         288         2      576  \n",
       "418         288         2      576  \n",
       "103         288         2      576  \n",
       "331         899         1      899  \n",
       "\n",
       "[490 rows x 8 columns]"
      ]
     },
     "execution_count": 49,
     "metadata": {},
     "output_type": "execute_result"
    }
   ],
   "source": [
    "#Sort the dataset by the 'km_driven' column in ascending order\n",
    "data.sort_values(by='revenue',ascending=True)"
   ]
  },
  {
   "cell_type": "code",
   "execution_count": 50,
   "id": "131f4f9c",
   "metadata": {},
   "outputs": [
    {
     "data": {
      "text/html": [
       "<div>\n",
       "<style scoped>\n",
       "    .dataframe tbody tr th:only-of-type {\n",
       "        vertical-align: middle;\n",
       "    }\n",
       "\n",
       "    .dataframe tbody tr th {\n",
       "        vertical-align: top;\n",
       "    }\n",
       "\n",
       "    .dataframe thead th {\n",
       "        text-align: right;\n",
       "    }\n",
       "</style>\n",
       "<table border=\"1\" class=\"dataframe\">\n",
       "  <thead>\n",
       "    <tr style=\"text-align: right;\">\n",
       "      <th></th>\n",
       "      <th>order_id</th>\n",
       "      <th>order_date</th>\n",
       "      <th>sku</th>\n",
       "      <th>color</th>\n",
       "      <th>size</th>\n",
       "      <th>unit_price</th>\n",
       "      <th>quantity</th>\n",
       "      <th>revenue</th>\n",
       "    </tr>\n",
       "  </thead>\n",
       "  <tbody>\n",
       "    <tr>\n",
       "      <th>466</th>\n",
       "      <td>128</td>\n",
       "      <td>30-09-2022 13:14</td>\n",
       "      <td>bobo</td>\n",
       "      <td>White</td>\n",
       "      <td>One Size</td>\n",
       "      <td>206</td>\n",
       "      <td>1</td>\n",
       "      <td>206</td>\n",
       "    </tr>\n",
       "    <tr>\n",
       "      <th>517</th>\n",
       "      <td>166</td>\n",
       "      <td>09-09-2022 21:17</td>\n",
       "      <td>bobo</td>\n",
       "      <td>White</td>\n",
       "      <td>One Size</td>\n",
       "      <td>228</td>\n",
       "      <td>1</td>\n",
       "      <td>228</td>\n",
       "    </tr>\n",
       "    <tr>\n",
       "      <th>96</th>\n",
       "      <td>77</td>\n",
       "      <td>10-07-2022 12:05</td>\n",
       "      <td>1719</td>\n",
       "      <td>Thin Blue</td>\n",
       "      <td>One Size</td>\n",
       "      <td>268</td>\n",
       "      <td>1</td>\n",
       "      <td>268</td>\n",
       "    </tr>\n",
       "    <tr>\n",
       "      <th>57</th>\n",
       "      <td>48</td>\n",
       "      <td>26-06-2022 21:58</td>\n",
       "      <td>1719</td>\n",
       "      <td>Thin Blue</td>\n",
       "      <td>One Size</td>\n",
       "      <td>268</td>\n",
       "      <td>1</td>\n",
       "      <td>268</td>\n",
       "    </tr>\n",
       "    <tr>\n",
       "      <th>340</th>\n",
       "      <td>21</td>\n",
       "      <td>07-08-2022 22:31</td>\n",
       "      <td>1719</td>\n",
       "      <td>Thin Blue</td>\n",
       "      <td>One Size</td>\n",
       "      <td>249</td>\n",
       "      <td>1</td>\n",
       "      <td>249</td>\n",
       "    </tr>\n",
       "    <tr>\n",
       "      <th>...</th>\n",
       "      <td>...</td>\n",
       "      <td>...</td>\n",
       "      <td>...</td>\n",
       "      <td>...</td>\n",
       "      <td>...</td>\n",
       "      <td>...</td>\n",
       "      <td>...</td>\n",
       "      <td>...</td>\n",
       "    </tr>\n",
       "    <tr>\n",
       "      <th>478</th>\n",
       "      <td>134</td>\n",
       "      <td>04-09-2022 14:51</td>\n",
       "      <td>218</td>\n",
       "      <td>Black</td>\n",
       "      <td>M</td>\n",
       "      <td>318</td>\n",
       "      <td>1</td>\n",
       "      <td>318</td>\n",
       "    </tr>\n",
       "    <tr>\n",
       "      <th>296</th>\n",
       "      <td>258</td>\n",
       "      <td>28-08-2022 19:30</td>\n",
       "      <td>9699</td>\n",
       "      <td>Black</td>\n",
       "      <td>One Size</td>\n",
       "      <td>288</td>\n",
       "      <td>1</td>\n",
       "      <td>288</td>\n",
       "    </tr>\n",
       "    <tr>\n",
       "      <th>88</th>\n",
       "      <td>73</td>\n",
       "      <td>09-06-2022 20:16</td>\n",
       "      <td>229</td>\n",
       "      <td>922 Black</td>\n",
       "      <td>XL</td>\n",
       "      <td>207</td>\n",
       "      <td>1</td>\n",
       "      <td>207</td>\n",
       "    </tr>\n",
       "    <tr>\n",
       "      <th>89</th>\n",
       "      <td>73</td>\n",
       "      <td>09-06-2022 20:16</td>\n",
       "      <td>229</td>\n",
       "      <td>922 Army green</td>\n",
       "      <td>XL</td>\n",
       "      <td>207</td>\n",
       "      <td>1</td>\n",
       "      <td>207</td>\n",
       "    </tr>\n",
       "    <tr>\n",
       "      <th>131</th>\n",
       "      <td>110</td>\n",
       "      <td>02-07-2022 00:33</td>\n",
       "      <td>29</td>\n",
       "      <td>920 Navy blue</td>\n",
       "      <td>S</td>\n",
       "      <td>227</td>\n",
       "      <td>1</td>\n",
       "      <td>227</td>\n",
       "    </tr>\n",
       "  </tbody>\n",
       "</table>\n",
       "<p>490 rows × 8 columns</p>\n",
       "</div>"
      ],
      "text/plain": [
       "     order_id        order_date                sku           color      size  \\\n",
       "466       128  30-09-2022 13:14               bobo           White  One Size   \n",
       "517       166  09-09-2022 21:17               bobo           White  One Size   \n",
       "96         77  10-07-2022 12:05               1719       Thin Blue  One Size   \n",
       "57         48  26-06-2022 21:58               1719       Thin Blue  One Size   \n",
       "340        21  07-08-2022 22:31               1719       Thin Blue  One Size   \n",
       "..        ...               ...                ...             ...       ...   \n",
       "478       134  04-09-2022 14:51                218           Black         M   \n",
       "296       258  28-08-2022 19:30               9699           Black  One Size   \n",
       "88         73  09-06-2022 20:16                229       922 Black        XL   \n",
       "89         73  09-06-2022 20:16                229  922 Army green        XL   \n",
       "131       110  02-07-2022 00:33                 29   920 Navy blue         S   \n",
       "\n",
       "     unit_price  quantity  revenue  \n",
       "466         206         1      206  \n",
       "517         228         1      228  \n",
       "96          268         1      268  \n",
       "57          268         1      268  \n",
       "340         249         1      249  \n",
       "..          ...       ...      ...  \n",
       "478         318         1      318  \n",
       "296         288         1      288  \n",
       "88          207         1      207  \n",
       "89          207         1      207  \n",
       "131         227         1      227  \n",
       "\n",
       "[490 rows x 8 columns]"
      ]
     },
     "execution_count": 50,
     "metadata": {},
     "output_type": "execute_result"
    }
   ],
   "source": [
    "#Sort the dataset by the 'color' column in descending order\n",
    "data.sort_values(by='color',ascending=False)"
   ]
  },
  {
   "cell_type": "code",
   "execution_count": 52,
   "id": "d58a9b39",
   "metadata": {},
   "outputs": [
    {
     "name": "stdout",
     "output_type": "stream",
     "text": [
      "     order_id        order_date                sku      color size  \\\n",
      "0           1  01-06-2022 16:05                708  Dark Blue  2XL   \n",
      "86         72  08-06-2022 12:39                708  Dark Blue  2XL   \n",
      "437       100  21-09-2022 07:23                708  Dark Blue  2XL   \n",
      "453       116  28-09-2022 17:47                708  Dark Blue  2XL   \n",
      "342        23  08-08-2022 00:26                708  Dark Blue  2XL   \n",
      "37         30  19-06-2022 13:41                708  Dark Blue  2XL   \n",
      "\n",
      "     unit_price  quantity  revenue  \n",
      "0           298         1      298  \n",
      "86          278         1      278  \n",
      "437         298         1      298  \n",
      "453         298         1      298  \n",
      "342         298         1      298  \n",
      "37          278         1      278  \n"
     ]
    }
   ],
   "source": [
    "# Sort Values by size\n",
    "print(data.sort_values(by=['size']).head(6))"
   ]
  },
  {
   "cell_type": "code",
   "execution_count": 38,
   "id": "3334ebd4",
   "metadata": {},
   "outputs": [
    {
     "name": "stdout",
     "output_type": "stream",
     "text": [
      "     order_id        order_date                sku      color size  \\\n",
      "331        15  05-08-2022 19:33                708  Dark Blue  4XL   \n",
      "270       233  22-08-2022 07:06                218      Black   XL   \n",
      "373        48  10-09-2022 20:41                218      Black   XL   \n",
      "462       124  03-09-2022 19:01                218      Black    M   \n",
      "\n",
      "     unit_price  quantity  revenue  \n",
      "331         899         1      899  \n",
      "270         318         1      318  \n",
      "373         318         1      318  \n",
      "462         318         1      318  \n"
     ]
    }
   ],
   "source": [
    "# nlargest\n",
    "print(data.nlargest(4, 'unit_price')) # first argument is how many rows you want to display and second one is columns name"
   ]
  },
  {
   "cell_type": "markdown",
   "id": "cecbb0e2",
   "metadata": {},
   "source": [
    "###### The output will display the top 4 rows of the DataFrame data, sorted based on the 'unit_price' column, with the highest unit prices appearing first."
   ]
  },
  {
   "cell_type": "code",
   "execution_count": 47,
   "id": "6fc09b49",
   "metadata": {},
   "outputs": [
    {
     "data": {
      "text/html": [
       "<div>\n",
       "<style scoped>\n",
       "    .dataframe tbody tr th:only-of-type {\n",
       "        vertical-align: middle;\n",
       "    }\n",
       "\n",
       "    .dataframe tbody tr th {\n",
       "        vertical-align: top;\n",
       "    }\n",
       "\n",
       "    .dataframe thead th {\n",
       "        text-align: right;\n",
       "    }\n",
       "</style>\n",
       "<table border=\"1\" class=\"dataframe\">\n",
       "  <thead>\n",
       "    <tr style=\"text-align: right;\">\n",
       "      <th></th>\n",
       "      <th>order_id</th>\n",
       "      <th>order_date</th>\n",
       "      <th>sku</th>\n",
       "      <th>color</th>\n",
       "      <th>size</th>\n",
       "      <th>unit_price</th>\n",
       "      <th>quantity</th>\n",
       "      <th>revenue</th>\n",
       "    </tr>\n",
       "  </thead>\n",
       "  <tbody>\n",
       "    <tr>\n",
       "      <th>308</th>\n",
       "      <td>268</td>\n",
       "      <td>03-08-2022 23:03</td>\n",
       "      <td>bobo</td>\n",
       "      <td>Navy Blue</td>\n",
       "      <td>One Size</td>\n",
       "      <td>191</td>\n",
       "      <td>1</td>\n",
       "      <td>191</td>\n",
       "    </tr>\n",
       "    <tr>\n",
       "      <th>327</th>\n",
       "      <td>12</td>\n",
       "      <td>04-08-2022 21:11</td>\n",
       "      <td>bobo</td>\n",
       "      <td>Maroon</td>\n",
       "      <td>One Size</td>\n",
       "      <td>191</td>\n",
       "      <td>1</td>\n",
       "      <td>191</td>\n",
       "    </tr>\n",
       "    <tr>\n",
       "      <th>328</th>\n",
       "      <td>12</td>\n",
       "      <td>04-08-2022 21:11</td>\n",
       "      <td>bobo</td>\n",
       "      <td>Blue</td>\n",
       "      <td>One Size</td>\n",
       "      <td>191</td>\n",
       "      <td>1</td>\n",
       "      <td>191</td>\n",
       "    </tr>\n",
       "    <tr>\n",
       "      <th>344</th>\n",
       "      <td>24</td>\n",
       "      <td>08-08-2022 00:58</td>\n",
       "      <td>bobo</td>\n",
       "      <td>Navy Blue</td>\n",
       "      <td>One Size</td>\n",
       "      <td>191</td>\n",
       "      <td>1</td>\n",
       "      <td>191</td>\n",
       "    </tr>\n",
       "  </tbody>\n",
       "</table>\n",
       "</div>"
      ],
      "text/plain": [
       "     order_id        order_date                sku      color      size  \\\n",
       "308       268  03-08-2022 23:03               bobo  Navy Blue  One Size   \n",
       "327        12  04-08-2022 21:11               bobo     Maroon  One Size   \n",
       "328        12  04-08-2022 21:11               bobo       Blue  One Size   \n",
       "344        24  08-08-2022 00:58               bobo  Navy Blue  One Size   \n",
       "\n",
       "     unit_price  quantity  revenue  \n",
       "308         191         1      191  \n",
       "327         191         1      191  \n",
       "328         191         1      191  \n",
       "344         191         1      191  "
      ]
     },
     "execution_count": 47,
     "metadata": {},
     "output_type": "execute_result"
    }
   ],
   "source": [
    "# nsmallest, first argument is how many rows you want to display and second one is columns name\n",
    "data.nsmallest(4, 'revenue')"
   ]
  },
  {
   "cell_type": "code",
   "execution_count": 53,
   "id": "0d849d5a",
   "metadata": {},
   "outputs": [
    {
     "name": "stdout",
     "output_type": "stream",
     "text": [
      "order_id                             3\n",
      "order_date            10-06-2022 19:59\n",
      "               sku                 799\n",
      "color                        Dark Blue\n",
      "size                                XL\n",
      "unit_price                         264\n",
      "quantity                             1\n",
      "revenue                            264\n",
      "Name: 3, dtype: object\n"
     ]
    }
   ],
   "source": [
    "# fetch the data of row at index 3\n",
    "print(data.loc[3]) "
   ]
  },
  {
   "cell_type": "code",
   "execution_count": 54,
   "id": "343999f4",
   "metadata": {},
   "outputs": [
    {
     "name": "stdout",
     "output_type": "stream",
     "text": [
      "color    Dark Blue\n",
      "Name: 3, dtype: object\n"
     ]
    }
   ],
   "source": [
    "#This line uses the loc indexer to select a specific row and column from the DataFrame. \n",
    "#It retrieves the value in the 'color' column for the row with index label 3.\n",
    "print(data.loc[3, ['color']])"
   ]
  },
  {
   "cell_type": "code",
   "execution_count": 57,
   "id": "0aac9a83",
   "metadata": {},
   "outputs": [
    {
     "name": "stdout",
     "output_type": "stream",
     "text": [
      "     order_id        order_date                               sku      color  \\\n",
      "0           1  01-06-2022 16:05                               708  Dark Blue   \n",
      "1           1  01-06-2022 16:05                                89  Dark Blue   \n",
      "2           2  10-06-2022 17:03                              bobo      Cream   \n",
      "3           3  10-06-2022 19:59                               799      White   \n",
      "4           4  11-06-2022 11:42                               799  Dark Blue   \n",
      "..        ...               ...                               ...        ...   \n",
      "522       171  09-09-2022 06:27                               799  Dark Blue   \n",
      "523       172  09-09-2022 07:18                               708  Dark Blue   \n",
      "524       173  09-09-2022 07:22                               799  Dark Blue   \n",
      "525       174  09-09-2022 08:25                               799  Dark Blue   \n",
      "526       175  09-09-2022 09:47                               799  Dark Blue   \n",
      "\n",
      "         size  unit_price  quantity  revenue  \n",
      "0         2XL         298         1      298  \n",
      "1         2XL         258         1      258  \n",
      "2    One Size         228         1      228  \n",
      "3          XL         264         1      264  \n",
      "4           M         264         1      264  \n",
      "..        ...         ...       ...      ...  \n",
      "522         M         265         1      265  \n",
      "523       4XL         278         1      278  \n",
      "524         M         265         1      265  \n",
      "525         L         265         1      265  \n",
      "526        XL         265         1      265  \n",
      "\n",
      "[490 rows x 8 columns]\n",
      "     order_id        order_date                               sku      color  \\\n",
      "0           1  01-06-2022 16:05                               708  Dark Blue   \n",
      "1           1  01-06-2022 16:05                                89  Dark Blue   \n",
      "2           2  10-06-2022 17:03                              bobo      Cream   \n",
      "3           3  10-06-2022 19:59                               799     Purple   \n",
      "4           4  11-06-2022 11:42                               799  Dark Blue   \n",
      "..        ...               ...                               ...        ...   \n",
      "522       171  09-09-2022 06:27                               799  Dark Blue   \n",
      "523       172  09-09-2022 07:18                               708  Dark Blue   \n",
      "524       173  09-09-2022 07:22                               799  Dark Blue   \n",
      "525       174  09-09-2022 08:25                               799  Dark Blue   \n",
      "526       175  09-09-2022 09:47                               799  Dark Blue   \n",
      "\n",
      "         size  unit_price  quantity  revenue  \n",
      "0         2XL         298         1      298  \n",
      "1         2XL         258         1      258  \n",
      "2    One Size         228         1      228  \n",
      "3          XL         264         1      264  \n",
      "4           M         264         1      264  \n",
      "..        ...         ...       ...      ...  \n",
      "522         M         265         1      265  \n",
      "523       4XL         278         1      278  \n",
      "524         M         265         1      265  \n",
      "525         L         265         1      265  \n",
      "526        XL         265         1      265  \n",
      "\n",
      "[490 rows x 8 columns]\n"
     ]
    }
   ],
   "source": [
    "#Original dataset\n",
    "print(data)\n",
    "# After updating\n",
    "data.loc[3, ['color']] = ['Purple']\n",
    "print(data)"
   ]
  },
  {
   "cell_type": "code",
   "execution_count": 58,
   "id": "b7e8df37",
   "metadata": {},
   "outputs": [
    {
     "name": "stdout",
     "output_type": "stream",
     "text": [
      "After Updating Values\n",
      "     order_id        order_date                               sku      color  \\\n",
      "0           1  01-06-2022 16:05                               708  Dark Blue   \n",
      "1           1  01-06-2022 16:05                                89  Dark Blue   \n",
      "2           2  10-06-2022 17:03                              bobo      Cream   \n",
      "3           3  10-06-2022 19:59                               799     Purple   \n",
      "4           4  11-06-2022 11:42                               799  Dark Blue   \n",
      "..        ...               ...                               ...        ...   \n",
      "522       171  09-09-2022 06:27                               799  Dark Blue   \n",
      "523       172  09-09-2022 07:18                               708  Dark Blue   \n",
      "524       173  09-09-2022 07:22                               799  Dark Blue   \n",
      "525       174  09-09-2022 08:25                               799  Dark Blue   \n",
      "526       175  09-09-2022 09:47                               799  Dark Blue   \n",
      "\n",
      "         size  unit_price  quantity  revenue    Remarks  \n",
      "0         2XL         298         1      298  Not valid  \n",
      "1         2XL         258         1      258  Not valid  \n",
      "2    One Size         228         1      228  Not valid  \n",
      "3          XL         264         1      264  Not valid  \n",
      "4           M         264         1      264  Not valid  \n",
      "..        ...         ...       ...      ...        ...  \n",
      "522         M         265         1      265  Not valid  \n",
      "523       4XL         278         1      278  Not valid  \n",
      "524         M         265         1      265  Not valid  \n",
      "525         L         265         1      265  Not valid  \n",
      "526        XL         265         1      265  Not valid  \n",
      "\n",
      "[490 rows x 9 columns]\n"
     ]
    }
   ],
   "source": [
    "#Updating\n",
    "data.loc[data['order_id'] >300, 'Remarks'] = 'Valid'\n",
    "data.loc[data['order_id'] <300, 'Remarks'] = 'Not valid'\n",
    "print(\"After Updating Values\")\n",
    "print(data)"
   ]
  },
  {
   "cell_type": "code",
   "execution_count": 59,
   "id": "61a66fde",
   "metadata": {},
   "outputs": [
    {
     "name": "stdout",
     "output_type": "stream",
     "text": [
      "Initial DataFrame:\n",
      "     order_id        order_date                               sku      color  \\\n",
      "0           1  01-06-2022 16:05                               708  Dark Blue   \n",
      "1           1  01-06-2022 16:05                                89  Dark Blue   \n",
      "2           2  10-06-2022 17:03                              bobo      Cream   \n",
      "3           3  10-06-2022 19:59                               799     Purple   \n",
      "4           4  11-06-2022 11:42                               799  Dark Blue   \n",
      "..        ...               ...                               ...        ...   \n",
      "522       171  09-09-2022 06:27                               799  Dark Blue   \n",
      "523       172  09-09-2022 07:18                               708  Dark Blue   \n",
      "524       173  09-09-2022 07:22                               799  Dark Blue   \n",
      "525       174  09-09-2022 08:25                               799  Dark Blue   \n",
      "526       175  09-09-2022 09:47                               799  Dark Blue   \n",
      "\n",
      "         size  unit_price  quantity  revenue    Remarks  \n",
      "0         2XL         298         1      298  Not valid  \n",
      "1         2XL         258         1      258  Not valid  \n",
      "2    One Size         228         1      228  Not valid  \n",
      "3          XL         264         1      264  Not valid  \n",
      "4           M         264         1      264  Not valid  \n",
      "..        ...         ...       ...      ...        ...  \n",
      "522         M         265         1      265  Not valid  \n",
      "523       4XL         278         1      278  Not valid  \n",
      "524         M         265         1      265  Not valid  \n",
      "525         L         265         1      265  Not valid  \n",
      "526        XL         265         1      265  Not valid  \n",
      "\n",
      "[490 rows x 9 columns]\n",
      "\n",
      "DataFrame after deleting the row for 'order_id':\n",
      "     order_id        order_date                sku      color size  \\\n",
      "0           1  01-06-2022 16:05                708  Dark Blue  2XL   \n",
      "1           1  01-06-2022 16:05                 89  Dark Blue  2XL   \n",
      "3           3  10-06-2022 19:59                799     Purple   XL   \n",
      "4           4  11-06-2022 11:42                799  Dark Blue    M   \n",
      "5           5  11-06-2022 14:46                799  Dark Blue   XL   \n",
      "..        ...               ...                ...        ...  ...   \n",
      "522       171  09-09-2022 06:27                799  Dark Blue    M   \n",
      "523       172  09-09-2022 07:18                708  Dark Blue  4XL   \n",
      "524       173  09-09-2022 07:22                799  Dark Blue    M   \n",
      "525       174  09-09-2022 08:25                799  Dark Blue    L   \n",
      "526       175  09-09-2022 09:47                799  Dark Blue   XL   \n",
      "\n",
      "     unit_price  quantity  revenue    Remarks  \n",
      "0           298         1      298  Not valid  \n",
      "1           258         1      258  Not valid  \n",
      "3           264         1      264  Not valid  \n",
      "4           264         1      264  Not valid  \n",
      "5           264         1      264  Not valid  \n",
      "..          ...       ...      ...        ...  \n",
      "522         265         1      265  Not valid  \n",
      "523         278         1      278  Not valid  \n",
      "524         265         1      265  Not valid  \n",
      "525         265         1      265  Not valid  \n",
      "526         265         1      265  Not valid  \n",
      "\n",
      "[488 rows x 9 columns]\n"
     ]
    }
   ],
   "source": [
    "# Display the initial DataFrame\n",
    "print(\"Initial DataFrame:\")\n",
    "print(data)\n",
    "# Let's say you want to delete the row for the order_id 2\n",
    "order_to_delete = 2\n",
    "# Use the .loc property to delete the row based on the order_id \n",
    "data = data.loc[data['order_id'] != order_to_delete]\n",
    "# Display the DataFrame after deleting the row\n",
    "print(\"\\nDataFrame after deleting the row for 'order_id':\")\n",
    "print(data)"
   ]
  },
  {
   "cell_type": "code",
   "execution_count": 61,
   "id": "fb38d8a1",
   "metadata": {},
   "outputs": [
    {
     "name": "stdout",
     "output_type": "stream",
     "text": [
      "No duplicated rows found in the DataFrame.\n"
     ]
    }
   ],
   "source": [
    "#Checking for Duplicated Values in the DataFrame:\n",
    "if data.duplicated().any():\n",
    "    print(\"There are duplicated rows in the DataFrame.\")\n",
    "else:\n",
    "    print(\"No duplicated rows found in the DataFrame.\")"
   ]
  },
  {
   "cell_type": "code",
   "execution_count": 63,
   "id": "0ac98c2f",
   "metadata": {},
   "outputs": [
    {
     "name": "stdout",
     "output_type": "stream",
     "text": [
      "No null values found in the 'color' column.\n"
     ]
    }
   ],
   "source": [
    "#Checking for Null Values in the 'color' column:\n",
    "if data['color'].isnull().any():\n",
    "    print(\"There are null values in the 'color' column.\")\n",
    "else:\n",
    "    print(\"No null values found in the 'color' column.\")"
   ]
  },
  {
   "cell_type": "code",
   "execution_count": 64,
   "id": "6a18f33e",
   "metadata": {},
   "outputs": [
    {
     "name": "stdout",
     "output_type": "stream",
     "text": [
      "     order_id        order_date                sku            color      size  \\\n",
      "308       268  03-08-2022 23:03               bobo        Navy Blue  One Size   \n",
      "315         1  30-08-2022 09:42               3081    Midnight Blue  One SIze   \n",
      "327        12  04-08-2022 21:11               bobo           Maroon  One Size   \n",
      "328        12  04-08-2022 21:11               bobo             Blue  One Size   \n",
      "344        24  08-08-2022 00:58               bobo        Navy Blue  One Size   \n",
      "345        24  08-08-2022 00:58               bobo             Blue  One Size   \n",
      "390        62  14-09-2022 09:34               3081            Brown  One SIze   \n",
      "391        62  14-09-2022 09:34               3081       Light Blue  One SIze   \n",
      "392        62  14-09-2022 09:34               3081  Cornflower Blue  One SIze   \n",
      "393        62  14-09-2022 09:34               3081    Midnight Blue  One SIze   \n",
      "\n",
      "     unit_price  quantity  revenue    Remarks  \n",
      "308         191         1      191  Not valid  \n",
      "315         198         1      198  Not valid  \n",
      "327         191         1      191  Not valid  \n",
      "328         191         1      191  Not valid  \n",
      "344         191         1      191  Not valid  \n",
      "345         191         1      191  Not valid  \n",
      "390         198         1      198  Not valid  \n",
      "391         198         1      198  Not valid  \n",
      "392         198         1      198  Not valid  \n",
      "393         198         1      198  Not valid  \n"
     ]
    }
   ],
   "source": [
    "#Indentifying rows where revenue is less than 200\n",
    "revenue_price= data[data['revenue']<200]\n",
    "#Displaying the rows\n",
    "print(revenue_price)"
   ]
  },
  {
   "cell_type": "markdown",
   "id": "6d111c4c",
   "metadata": {},
   "source": [
    "## Step 6: Data Visualization"
   ]
  },
  {
   "cell_type": "code",
   "execution_count": 65,
   "id": "d804cf46",
   "metadata": {},
   "outputs": [
    {
     "data": {
      "text/plain": [
       "<Axes: title={'center': 'Size vs Quantity'}, xlabel='size'>"
      ]
     },
     "execution_count": 65,
     "metadata": {},
     "output_type": "execute_result"
    },
    {
     "data": {
      "image/png": "[encoded data removed]",
      "text/plain": [
       "<Figure size 1000x500 with 1 Axes>"
      ]
     },
     "metadata": {},
     "output_type": "display_data"
    }
   ],
   "source": [
    "# Set the size of the figure\n",
    "plt.figure(figsize=(10,5))\n",
    "\n",
    "# Set the title of the plot\n",
    "plt.title('Size vs Quantity')\n",
    "\n",
    "# Group the data by 'size' and calculate the sum of 'quantity' for each group\n",
    "bars = data.groupby(['size']).quantity.sum()\n",
    "\n",
    "# Plot a bar chart with 'size' on the x-axis and the sum of 'quantity' on the y-axis\n",
    "bars.plot(kind='bar', color='pink')\n"
   ]
  },
  {
   "cell_type": "markdown",
   "id": "489d1598",
   "metadata": {},
   "source": [
    "###### This code creates a bar plot to visualize the relationship between the 'size' of clothing items and the total 'quantity' ordered for each size. The figure size is set to 10x5 inches, and the bars are colored pink for better visibility. This visualization helps to identify which sizes are more popular among customers based on the quantity ordered."
   ]
  },
  {
   "cell_type": "code",
   "execution_count": 75,
   "id": "2ddc8317",
   "metadata": {},
   "outputs": [
    {
     "data": {
      "image/png": "[encoded data removed]",
      "text/plain": [
       "<Figure size 800x600 with 1 Axes>"
      ]
     },
     "metadata": {},
     "output_type": "display_data"
    }
   ],
   "source": [
    "# Importing matplotlib library\n",
    "import matplotlib.pyplot as plt\n",
    "\n",
    "# Set the figure size\n",
    "plt.figure(figsize=(8, 6))\n",
    "\n",
    "# Plotting a histogram for the 'unit_price' column\n",
    "plt.hist(data['unit_price'], bins=range(200, 301, 10), color='skyblue')\n",
    "\n",
    "# Adding labels and title\n",
    "plt.xlabel('Unit Price')\n",
    "plt.ylabel('Frequency')\n",
    "plt.title('Distribution of Unit Prices')\n",
    "\n",
    "# Displaying the histogram\n",
    "plt.show()"
   ]
  },
  {
   "cell_type": "markdown",
   "id": "6eb90317",
   "metadata": {},
   "source": [
    "###### This code segment imports the matplotlib.pyplot library as plt and sets the figure size for the plot. It then plots a histogram for the 'unit_price' column of the dataset, specifying the bins to range from 200 to 300 with intervals of 10. The histogram is displayed with labeled x and y axes ('Unit Price' and 'Frequency', respectively) and a title ('Distribution of Unit Prices'). Finally, the histogram is displayed using plt.show()."
   ]
  },
  {
   "cell_type": "code",
   "execution_count": 88,
   "id": "7f7fdcf3",
   "metadata": {
    "scrolled": true
   },
   "outputs": [
    {
     "data": {
      "image/png": "[encoded data removed]",
      "text/plain": [
       "<Figure size 1600x800 with 1 Axes>"
      ]
     },
     "metadata": {},
     "output_type": "display_data"
    }
   ],
   "source": [
    "plt.figure(figsize=(16, 8))  # Set the figure size\n",
    "colors = data['color'].value_counts()  # Count occurrences of each color\n",
    "plt.plot(colors, marker='o')  # Plot the line chart with circular markers\n",
    "plt.title('Distribution of Product Colors')  # Add title\n",
    "plt.xlabel('Color')  # Add label for x-axis\n",
    "plt.ylabel('Frequency')  # Add label for y-axis\n",
    "plt.xticks(rotation=45)  # Rotate x-axis labels for better readability\n",
    "plt.grid(True)  # Add grid lines\n",
    "plt.show()  # Display the line chart"
   ]
  },
  {
   "cell_type": "markdown",
   "id": "9ef55ea3",
   "metadata": {},
   "source": [
    "###### The provided code generates a line chart illustrating the distribution of product colors based on the frequency of each color occurrence. The dataset is first processed to determine the count of occurrences for each unique color using the value_counts() function. This count data is then plotted on the y-axis, while the different colors are represented on the x-axis. Circular markers are added to each data point for better visualization."
   ]
  },
  {
   "cell_type": "code",
   "execution_count": 89,
   "id": "1fc77716",
   "metadata": {},
   "outputs": [
    {
     "data": {
      "image/png": "[encoded data removed]",
      "text/plain": [
       "<Figure size 800x800 with 1 Axes>"
      ]
     },
     "metadata": {},
     "output_type": "display_data"
    }
   ],
   "source": [
    "# Importing matplotlib library\n",
    "import matplotlib.pyplot as plt\n",
    "\n",
    "# Grouping the data by 'size' and summing the 'revenue' for each size\n",
    "size_revenue = data.groupby('size')['revenue'].sum()\n",
    "\n",
    "# Creating a pie chart for the revenue distribution by size\n",
    "plt.figure(figsize=(8, 8))\n",
    "plt.pie(size_revenue, labels=size_revenue.index, autopct='%1.1f%%', startangle=140)\n",
    "plt.title('Revenue Distribution by Size')\n",
    "plt.axis('equal')  # Equal aspect ratio ensures that pie is drawn as a circle\n",
    "\n",
    "# Displaying the pie chart\n",
    "plt.show()"
   ]
  },
  {
   "cell_type": "markdown",
   "id": "7fbe7b1b",
   "metadata": {},
   "source": [
    "###### The pie chart illustrates the revenue distribution by size categories. Each slice represents the proportion of revenue generated by a specific size, with larger slices indicating higher revenue contributions. The chart provides a visual overview of how different sizes contribute to overall revenue.\n"
   ]
  },
  {
   "cell_type": "code",
   "execution_count": 94,
   "id": "fcbc9f81",
   "metadata": {},
   "outputs": [
    {
     "data": {
      "image/png": "[encoded data removed]",
      "text/plain": [
       "<Figure size 1000x600 with 1 Axes>"
      ]
     },
     "metadata": {},
     "output_type": "display_data"
    }
   ],
   "source": [
    "# Plot scatter plot\n",
    "plt.figure(figsize=(10, 6))\n",
    "sns.scatterplot(x='order_month', y='color', data=data, hue='color', palette='viridis', legend=None)\n",
    "plt.title('Scatter Plot of Order Date (Month) vs Color')\n",
    "plt.xlabel('Order Month')\n",
    "plt.ylabel('Color')\n",
    "plt.show()"
   ]
  },
  {
   "cell_type": "markdown",
   "id": "5fd04fab",
   "metadata": {},
   "source": [
    "###### This code snippet uses sns.scatterplot() to create a scatter plot, with the x-axis representing the order month, the y-axis representing the color, and each data point colored according to the respective color category. The palette='viridis' argument specifies the color palette to be used, and legend=None removes the legend from the plot as it's not necessary for this visualization."
   ]
  },
  {
   "cell_type": "code",
   "execution_count": 105,
   "id": "510ce08a",
   "metadata": {},
   "outputs": [
    {
     "data": {
      "image/png": "[encoded data removed]",
      "text/plain": [
       "<Figure size 800x600 with 1 Axes>"
      ]
     },
     "metadata": {},
     "output_type": "display_data"
    }
   ],
   "source": [
    "plt.figure(figsize=(8,6))  # Set the figure size\n",
    "x=data['unit_price']  # Assign 'unit_price' column to x\n",
    "y=data['revenue']  # Assign 'revenue' column to y\n",
    "plt.plot(x,y,marker='*')  # Plot x vs y with markers\n",
    "plt.title('Prices vs Revenue')  # Set the title\n",
    "plt.xlabel('Price')  # Set the x-axis label\n",
    "plt.ylabel('Revenue')  # Set the y-axis label\n",
    "plt.show()  # Display the plot"
   ]
  },
  {
   "cell_type": "markdown",
   "id": "a5325e0c",
   "metadata": {},
   "source": [
    "###### This code plots the relationship between unit prices and revenue, marking each data point with an asterisk symbol. It helps visualize how changes in unit prices affect revenue generation. By visualizing this relationship, we can gain insights into how changes in unit prices impact revenue generation. The plot helps identify any trends or patterns in the data and aids in making informed decisions regarding pricing strategies to optimize revenue.\n",
    "\n",
    "\n",
    "\n",
    "\n",
    "\n",
    "\n"
   ]
  },
  {
   "cell_type": "markdown",
   "id": "3fe06c63",
   "metadata": {},
   "source": [
    "#### Conclusion:\n",
    "- XL sizes are more popular among customers based on the quantity ordered.¶\n",
    "- From the distribution of product colors graph, I analyzed that more customers prefer the dark blue color among the other colors.\n",
    "###### In this way, this data has covered color,size,revenue,unit price of the sales done on 2022.With this we can know that the ecommerce sales has been increase gradually.They have increase their revenve."
   ]
  }
 ],
 "metadata": {
  "kernelspec": {
   "display_name": "Python 3 (ipykernel)",
   "language": "python",
   "name": "python3"
  },
  "language_info": {
   "codemirror_mode": {
    "name": "ipython",
    "version": 3
   },
   "file_extension": ".py",
   "mimetype": "text/x-python",
   "name": "python",
   "nbconvert_exporter": "python",
   "pygments_lexer": "ipython3",
   "version": "3.11.4"
  }
 },
 "nbformat": 4,
 "nbformat_minor": 5
}
